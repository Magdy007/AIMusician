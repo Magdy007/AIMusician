{
  "nbformat": 4,
  "nbformat_minor": 0,
  "metadata": {
    "colab": {
      "provenance": [],
      "authorship_tag": "ABX9TyMu9+3o6vm/hBXhxXyQutqZ",
      "include_colab_link": true
    },
    "kernelspec": {
      "name": "python3",
      "display_name": "Python 3"
    },
    "language_info": {
      "name": "python"
    },
    "widgets": {
      "application/vnd.jupyter.widget-state+json": {
        "645904056c9f4f248594c33b62457c8b": {
          "model_module": "@jupyter-widgets/output",
          "model_name": "OutputModel",
          "model_module_version": "1.0.0",
          "state": {
            "_dom_classes": [],
            "_model_module": "@jupyter-widgets/output",
            "_model_module_version": "1.0.0",
            "_model_name": "OutputModel",
            "_view_count": null,
            "_view_module": "@jupyter-widgets/output",
            "_view_module_version": "1.0.0",
            "_view_name": "OutputView",
            "layout": "IPY_MODEL_e6a624dd53344cf8bf6473157ee16fbd",
            "msg_id": "",
            "outputs": [
              {
                "output_type": "stream",
                "name": "stdout",
                "text": [
                  "👋 Welcome! Please upload an image and an audio file to get started.\n",
                  "✅ Audio uploaded successfully!\n",
                  "✅ Image uploaded successfully!\n"
                ]
              },
              {
                "output_type": "display_data",
                "data": {
                  "text/plain": "FileUpload(value={'Handaset full_1.wav': {'metadata': {'name': 'Handaset full_1.wav', 'type': 'audio/wav', 'si…",
                  "application/vnd.jupyter.widget-view+json": {
                    "version_major": 2,
                    "version_minor": 0,
                    "model_id": "572a6fe8f1a74a29b2d1b5f7c5a89872"
                  }
                },
                "metadata": {}
              },
              {
                "output_type": "display_data",
                "data": {
                  "text/plain": "FileUpload(value={'IMG_1217.JPG': {'metadata': {'name': 'IMG_1217.JPG', 'type': 'image/jpeg', 'size': 2350403,…",
                  "application/vnd.jupyter.widget-view+json": {
                    "version_major": 2,
                    "version_minor": 0,
                    "model_id": "3c0172179bfa44d1b438ff22ebcd8f07"
                  }
                },
                "metadata": {}
              },
              {
                "output_type": "stream",
                "name": "stdout",
                "text": [
                  "Starting analysis...\n"
                ]
              }
            ]
          }
        },
        "572a6fe8f1a74a29b2d1b5f7c5a89872": {
          "model_module": "@jupyter-widgets/controls",
          "model_name": "FileUploadModel",
          "model_module_version": "1.5.0",
          "state": {
            "_counter": 1,
            "_dom_classes": [],
            "_model_module": "@jupyter-widgets/controls",
            "_model_module_version": "1.5.0",
            "_model_name": "FileUploadModel",
            "_view_count": null,
            "_view_module": "@jupyter-widgets/controls",
            "_view_module_version": "1.5.0",
            "_view_name": "FileUploadView",
            "accept": ".mp3,.wav",
            "button_style": "",
            "data": [
              null
            ],
            "description": "Upload Audio",
            "description_tooltip": null,
            "disabled": false,
            "error": "",
            "icon": "upload",
            "layout": "IPY_MODEL_66d3c4128e0a4eab8bcf350a3cc648e9",
            "metadata": [
              {
                "name": "Handaset full_1.wav",
                "type": "audio/wav",
                "size": 1522998,
                "lastModified": 1733270895258
              }
            ],
            "multiple": false,
            "style": "IPY_MODEL_2128022b922945cfb51fb8901cc2cdff"
          }
        },
        "e6a624dd53344cf8bf6473157ee16fbd": {
          "model_module": "@jupyter-widgets/base",
          "model_name": "LayoutModel",
          "model_module_version": "1.2.0",
          "state": {
            "_model_module": "@jupyter-widgets/base",
            "_model_module_version": "1.2.0",
            "_model_name": "LayoutModel",
            "_view_count": null,
            "_view_module": "@jupyter-widgets/base",
            "_view_module_version": "1.2.0",
            "_view_name": "LayoutView",
            "align_content": null,
            "align_items": null,
            "align_self": null,
            "border": null,
            "bottom": null,
            "display": null,
            "flex": null,
            "flex_flow": null,
            "grid_area": null,
            "grid_auto_columns": null,
            "grid_auto_flow": null,
            "grid_auto_rows": null,
            "grid_column": null,
            "grid_gap": null,
            "grid_row": null,
            "grid_template_areas": null,
            "grid_template_columns": null,
            "grid_template_rows": null,
            "height": null,
            "justify_content": null,
            "justify_items": null,
            "left": null,
            "margin": null,
            "max_height": null,
            "max_width": null,
            "min_height": null,
            "min_width": null,
            "object_fit": null,
            "object_position": null,
            "order": null,
            "overflow": null,
            "overflow_x": null,
            "overflow_y": null,
            "padding": null,
            "right": null,
            "top": null,
            "visibility": null,
            "width": null
          }
        },
        "66d3c4128e0a4eab8bcf350a3cc648e9": {
          "model_module": "@jupyter-widgets/base",
          "model_name": "LayoutModel",
          "model_module_version": "1.2.0",
          "state": {
            "_model_module": "@jupyter-widgets/base",
            "_model_module_version": "1.2.0",
            "_model_name": "LayoutModel",
            "_view_count": null,
            "_view_module": "@jupyter-widgets/base",
            "_view_module_version": "1.2.0",
            "_view_name": "LayoutView",
            "align_content": null,
            "align_items": null,
            "align_self": null,
            "border": null,
            "bottom": null,
            "display": null,
            "flex": null,
            "flex_flow": null,
            "grid_area": null,
            "grid_auto_columns": null,
            "grid_auto_flow": null,
            "grid_auto_rows": null,
            "grid_column": null,
            "grid_gap": null,
            "grid_row": null,
            "grid_template_areas": null,
            "grid_template_columns": null,
            "grid_template_rows": null,
            "height": null,
            "justify_content": null,
            "justify_items": null,
            "left": null,
            "margin": null,
            "max_height": null,
            "max_width": null,
            "min_height": null,
            "min_width": null,
            "object_fit": null,
            "object_position": null,
            "order": null,
            "overflow": null,
            "overflow_x": null,
            "overflow_y": null,
            "padding": null,
            "right": null,
            "top": null,
            "visibility": null,
            "width": null
          }
        },
        "2128022b922945cfb51fb8901cc2cdff": {
          "model_module": "@jupyter-widgets/controls",
          "model_name": "ButtonStyleModel",
          "model_module_version": "1.5.0",
          "state": {
            "_model_module": "@jupyter-widgets/controls",
            "_model_module_version": "1.5.0",
            "_model_name": "ButtonStyleModel",
            "_view_count": null,
            "_view_module": "@jupyter-widgets/base",
            "_view_module_version": "1.2.0",
            "_view_name": "StyleView",
            "button_color": null,
            "font_weight": ""
          }
        },
        "3c0172179bfa44d1b438ff22ebcd8f07": {
          "model_module": "@jupyter-widgets/controls",
          "model_name": "FileUploadModel",
          "model_module_version": "1.5.0",
          "state": {
            "_counter": 1,
            "_dom_classes": [],
            "_model_module": "@jupyter-widgets/controls",
            "_model_module_version": "1.5.0",
            "_model_name": "FileUploadModel",
            "_view_count": null,
            "_view_module": "@jupyter-widgets/controls",
            "_view_module_version": "1.5.0",
            "_view_name": "FileUploadView",
            "accept": ".png,.jpg,.jpeg",
            "button_style": "",
            "data": [
              null
            ],
            "description": "Upload Image",
            "description_tooltip": null,
            "disabled": false,
            "error": "",
            "icon": "upload",
            "layout": "IPY_MODEL_e7dcfd32829f488d990e4261e5908079",
            "metadata": [
              {
                "name": "IMG_1217.JPG",
                "type": "image/jpeg",
                "size": 2350403,
                "lastModified": 1708560487000
              }
            ],
            "multiple": false,
            "style": "IPY_MODEL_26ba4cf1ccbe4e22b0c60d5d74ed025a"
          }
        },
        "e7dcfd32829f488d990e4261e5908079": {
          "model_module": "@jupyter-widgets/base",
          "model_name": "LayoutModel",
          "model_module_version": "1.2.0",
          "state": {
            "_model_module": "@jupyter-widgets/base",
            "_model_module_version": "1.2.0",
            "_model_name": "LayoutModel",
            "_view_count": null,
            "_view_module": "@jupyter-widgets/base",
            "_view_module_version": "1.2.0",
            "_view_name": "LayoutView",
            "align_content": null,
            "align_items": null,
            "align_self": null,
            "border": null,
            "bottom": null,
            "display": null,
            "flex": null,
            "flex_flow": null,
            "grid_area": null,
            "grid_auto_columns": null,
            "grid_auto_flow": null,
            "grid_auto_rows": null,
            "grid_column": null,
            "grid_gap": null,
            "grid_row": null,
            "grid_template_areas": null,
            "grid_template_columns": null,
            "grid_template_rows": null,
            "height": null,
            "justify_content": null,
            "justify_items": null,
            "left": null,
            "margin": null,
            "max_height": null,
            "max_width": null,
            "min_height": null,
            "min_width": null,
            "object_fit": null,
            "object_position": null,
            "order": null,
            "overflow": null,
            "overflow_x": null,
            "overflow_y": null,
            "padding": null,
            "right": null,
            "top": null,
            "visibility": null,
            "width": null
          }
        },
        "26ba4cf1ccbe4e22b0c60d5d74ed025a": {
          "model_module": "@jupyter-widgets/controls",
          "model_name": "ButtonStyleModel",
          "model_module_version": "1.5.0",
          "state": {
            "_model_module": "@jupyter-widgets/controls",
            "_model_module_version": "1.5.0",
            "_model_name": "ButtonStyleModel",
            "_view_count": null,
            "_view_module": "@jupyter-widgets/base",
            "_view_module_version": "1.2.0",
            "_view_name": "StyleView",
            "button_color": null,
            "font_weight": ""
          }
        }
      }
    }
  },
  "cells": [
    {
      "cell_type": "markdown",
      "metadata": {
        "id": "view-in-github",
        "colab_type": "text"
      },
      "source": [
        "<a href=\"https://colab.research.google.com/github/Magdy007/AIMusician/blob/main/GEPO_NEW.ipynb\" target=\"_parent\"><img src=\"https://colab.research.google.com/assets/colab-badge.svg\" alt=\"Open In Colab\"/></a>"
      ]
    },
    {
      "cell_type": "markdown",
      "source": [
        "# ربط جيت هب وحوجل درايف لضمان حفظ الجلسات"
      ],
      "metadata": {
        "id": "9uD2mb6BX63i"
      }
    },
    {
      "cell_type": "markdown",
      "source": [
        "ربط جيتهب"
      ],
      "metadata": {
        "id": "9vWGtw1qbrQe"
      }
    },
    {
      "cell_type": "code",
      "source": [
        "from google.colab import auth\n",
        "auth.authenticate_user()\n",
        "\n",
        "!git config --global user.email \"your-email@example.com\"\n",
        "!git config --global user.name \"YourGitHubUsername\"\n"
      ],
      "metadata": {
        "id": "5umVgOPQW0X8"
      },
      "execution_count": 2,
      "outputs": []
    },
    {
      "cell_type": "markdown",
      "source": [
        "التحقق من ربط جيت هب"
      ],
      "metadata": {
        "id": "sidQDerbX_D6"
      }
    },
    {
      "cell_type": "code",
      "source": [
        "!git config --global user.email\n",
        "!git config --global user.name\n"
      ],
      "metadata": {
        "colab": {
          "base_uri": "https://localhost:8080/"
        },
        "id": "fhWCwGxdW0RD",
        "outputId": "90e65a54-6c87-4c61-8a21-bbe76f126ffc"
      },
      "execution_count": 3,
      "outputs": [
        {
          "output_type": "stream",
          "name": "stdout",
          "text": [
            "your-email@example.com\n",
            "YourGitHubUsername\n"
          ]
        }
      ]
    },
    {
      "cell_type": "markdown",
      "source": [
        "استرجاع المشروع من جيت هب"
      ],
      "metadata": {
        "id": "mcJizdZNYQyq"
      }
    },
    {
      "cell_type": "code",
      "source": [
        "!git clone https://github.com/Magdy007/AIMusician.git\n",
        "%cd AIMusician\n"
      ],
      "metadata": {
        "colab": {
          "base_uri": "https://localhost:8080/"
        },
        "id": "gNrXjtL0W0KD",
        "outputId": "0c205d56-a4b1-4b29-ddc4-2853b7a5a764"
      },
      "execution_count": null,
      "outputs": [
        {
          "output_type": "stream",
          "name": "stdout",
          "text": [
            "Cloning into 'AIMusician'...\n",
            "remote: Enumerating objects: 17, done.\u001b[K\n",
            "remote: Counting objects: 100% (17/17), done.\u001b[K\n",
            "remote: Compressing objects: 100% (17/17), done.\u001b[K\n",
            "remote: Total 17 (delta 6), reused 0 (delta 0), pack-reused 0 (from 0)\u001b[K\n",
            "Receiving objects: 100% (17/17), 319.46 KiB | 2.28 MiB/s, done.\n",
            "Resolving deltas: 100% (6/6), done.\n",
            "/content/AIMusician/AIMusician\n"
          ]
        }
      ]
    },
    {
      "cell_type": "markdown",
      "source": [
        "📌 إضافة كل الملفات المعدلة والجديدة إلى قائمة الرفع:\n",
        "اذا كنت تملك ... على جيتهب"
      ],
      "metadata": {
        "id": "jyNI5a93ZXNh"
      }
    },
    {
      "cell_type": "code",
      "source": [
        "!git add .\n"
      ],
      "metadata": {
        "id": "F5HyyPrjWz98"
      },
      "execution_count": null,
      "outputs": []
    },
    {
      "cell_type": "markdown",
      "source": [
        "معرفة حالة الملفات التي تم رفعها من جيت هب"
      ],
      "metadata": {
        "id": "kVNt0ghUYkdh"
      }
    },
    {
      "cell_type": "code",
      "source": [
        "!git status\n"
      ],
      "metadata": {
        "colab": {
          "base_uri": "https://localhost:8080/"
        },
        "collapsed": true,
        "id": "jPytP_r6Wz5L",
        "outputId": "cb8d3898-0265-4e1c-882e-69b19906d748"
      },
      "execution_count": null,
      "outputs": [
        {
          "output_type": "stream",
          "name": "stdout",
          "text": [
            "On branch main\n",
            "Your branch is up to date with 'origin/main'.\n",
            "\n",
            "nothing to commit, working tree clean\n"
          ]
        }
      ]
    },
    {
      "cell_type": "markdown",
      "source": [
        "📌 حفظ التعديلات داخل Git بتعليق يصف التغيير:"
      ],
      "metadata": {
        "id": "smuSgZ4QaNJQ"
      }
    },
    {
      "cell_type": "code",
      "source": [
        "!git commit -m \"AIMusician\"\n"
      ],
      "metadata": {
        "colab": {
          "base_uri": "https://localhost:8080/"
        },
        "id": "SBIQlaXQaGKQ",
        "outputId": "aa8144e8-0dec-430e-9817-cf5bff1f12a1",
        "collapsed": true
      },
      "execution_count": null,
      "outputs": [
        {
          "output_type": "stream",
          "name": "stdout",
          "text": [
            "On branch main\n",
            "Your branch is up to date with 'origin/main'.\n",
            "\n",
            "nothing to commit, working tree clean\n"
          ]
        }
      ]
    },
    {
      "cell_type": "markdown",
      "source": [
        "ربط جوجل درايف المستخدم أو التأكد من الربط لضمان حفظ العمل الموسيقي"
      ],
      "metadata": {
        "id": "f3QED7-d6yiK"
      }
    },
    {
      "cell_type": "code",
      "source": [
        "import os\n",
        "import time\n",
        "import threading\n",
        "from google.colab import drive\n",
        "\n",
        "# التحقق مما إذا كان Google Drive مربوطًا بالفعل\n",
        "if os.path.exists(\"/content/drive/MyDrive\"):\n",
        "    print(\"✅ Google Drive مربوط بالفعل!\")\n",
        "else:\n",
        "    print(\"🔗 Google Drive غير مربوط! يرجى الضغط على الرابط التالي لربطه:\")\n",
        "    drive.mount('/content/drive')\n",
        "    print(\"✅ تم ربط Google Drive بنجاح!\")\n",
        "\n",
        "# دالة لحفظ النوتبوك تلقائيًا\n",
        "def auto_save():\n",
        "    while True:\n",
        "        time.sleep(600)  # 600 ثانية = 10 دقائق\n",
        "        os.system(\"cp /content/*.ipynb /content/drive/MyDrive/\")  # حفظ كل النوتبوك إلى Google Drive\n",
        "        print(\"✅ تم حفظ نسخة احتياطية تلقائيًا في Google Drive!\")\n",
        "\n",
        "# تشغيل الحفظ التلقائي في Thread منفصل\n",
        "thread = threading.Thread(target=auto_save, daemon=True)\n",
        "thread.start()\n"
      ],
      "metadata": {
        "id": "zwxhDUrj3aZb",
        "outputId": "0b6363f8-fe20-4dbf-c09a-a93360a20a05",
        "colab": {
          "base_uri": "https://localhost:8080/"
        }
      },
      "execution_count": 1,
      "outputs": [
        {
          "output_type": "stream",
          "name": "stdout",
          "text": [
            "✅ Google Drive مربوط بالفعل!\n"
          ]
        }
      ]
    },
    {
      "cell_type": "code",
      "source": [
        "!pip install face_recognition\n"
      ],
      "metadata": {
        "colab": {
          "base_uri": "https://localhost:8080/"
        },
        "id": "s_tNghW1a04B",
        "outputId": "6e3f9062-143d-4b3c-844f-942640604085"
      },
      "execution_count": 5,
      "outputs": [
        {
          "output_type": "stream",
          "name": "stdout",
          "text": [
            "Requirement already satisfied: face_recognition in /usr/local/lib/python3.11/dist-packages (1.3.0)\n",
            "Requirement already satisfied: face-recognition-models>=0.3.0 in /usr/local/lib/python3.11/dist-packages (from face_recognition) (0.3.0)\n",
            "Requirement already satisfied: Click>=6.0 in /usr/local/lib/python3.11/dist-packages (from face_recognition) (8.1.8)\n",
            "Requirement already satisfied: dlib>=19.7 in /usr/local/lib/python3.11/dist-packages (from face_recognition) (19.24.2)\n",
            "Requirement already satisfied: numpy in /usr/local/lib/python3.11/dist-packages (from face_recognition) (1.26.4)\n",
            "Requirement already satisfied: Pillow in /usr/local/lib/python3.11/dist-packages (from face_recognition) (11.1.0)\n"
          ]
        }
      ]
    },
    {
      "cell_type": "code",
      "source": [
        "!pip install dlib-bin\n"
      ],
      "metadata": {
        "colab": {
          "base_uri": "https://localhost:8080/"
        },
        "id": "qhvn_QHebjHQ",
        "outputId": "60f30972-ea53-44a4-fe77-249fabd6caef"
      },
      "execution_count": 4,
      "outputs": [
        {
          "output_type": "stream",
          "name": "stdout",
          "text": [
            "Requirement already satisfied: dlib-bin in /usr/local/lib/python3.11/dist-packages (19.24.6)\n"
          ]
        }
      ]
    },
    {
      "cell_type": "code",
      "source": [
        "import dlib\n",
        "import face_recognition\n",
        "import numpy as np\n",
        "from PIL import Image\n",
        "\n",
        "print(\"✅ تم تحميل المكتبات بنجاح!\")\n",
        "print(\"dlib.DLIB_USE_CUDA:\", dlib.DLIB_USE_CUDA)\n"
      ],
      "metadata": {
        "colab": {
          "base_uri": "https://localhost:8080/"
        },
        "id": "XNEGw2C2b9uA",
        "outputId": "3fc0b8a4-2e15-4eb6-bcfc-1cc2614557bc"
      },
      "execution_count": 4,
      "outputs": [
        {
          "output_type": "stream",
          "name": "stdout",
          "text": [
            "✅ تم تحميل المكتبات بنجاح!\n",
            "dlib.DLIB_USE_CUDA: False\n"
          ]
        }
      ]
    },
    {
      "cell_type": "code",
      "source": [
        "import os\n",
        "import ipywidgets as widgets\n",
        "from IPython.display import display, clear_output\n",
        "import librosa\n",
        "import face_recognition\n",
        "import numpy as np\n",
        "import tempfile\n",
        "from io import BytesIO\n",
        "from PIL import Image\n",
        "\n",
        "# Disable CUDA to force CPU usage\n",
        "os.environ[\"CUDA_VISIBLE_DEVICES\"] = \"-1\"\n",
        "\n",
        "# Verify dlib and face_recognition installation\n",
        "try:\n",
        "    import dlib\n",
        "    print(\"dlib.DLIB_USE_CUDA:\", dlib.DLIB_USE_CUDA)\n",
        "except ImportError:\n",
        "    print(\"⚠️ Warning: dlib is not installed correctly!\")\n",
        "\n",
        "# Global variables\n",
        "uploaded_audio = None\n",
        "uploaded_image = None\n",
        "chat_output = []\n",
        "chat_ui = widgets.Output()\n",
        "\n",
        "def analyze_audio(audio_data):\n",
        "    with tempfile.NamedTemporaryFile(delete=True, suffix=\".wav\") as tmp_file:\n",
        "        tmp_file.write(audio_data)\n",
        "        tmp_file.flush()\n",
        "        y, sr = librosa.load(tmp_file.name, sr=None)\n",
        "    duration = librosa.get_duration(y=y, sr=sr)\n",
        "    return duration\n",
        "\n",
        "def analyze_image(image_data):\n",
        "    image = Image.open(BytesIO(image_data))\n",
        "    image_np = np.array(image)\n",
        "    face_locations = face_recognition.face_locations(image_np, model=\"hog\")\n",
        "    return len(face_locations) > 0\n",
        "\n",
        "def on_upload_audio(change):\n",
        "    global uploaded_audio\n",
        "    uploaded_audio = list(change['new'].values())[0]['content']\n",
        "    chat_output.append(\"✅ Audio uploaded successfully!\")\n",
        "    print(\"Audio uploaded:\", uploaded_audio is not None)\n",
        "    update_ui()\n",
        "\n",
        "def on_upload_image(change):\n",
        "    global uploaded_image\n",
        "    uploaded_image = list(change['new'].values())[0]['content']\n",
        "    chat_output.append(\"✅ Image uploaded successfully!\")\n",
        "    print(\"Image uploaded:\", uploaded_image is not None)\n",
        "    update_ui()\n",
        "\n",
        "def update_ui():\n",
        "    with chat_ui:\n",
        "        clear_output(wait=True)  # تجنب flickering\n",
        "        for message in chat_output:\n",
        "            print(message)\n",
        "        display(upload_audio, upload_image)\n",
        "\n",
        "        if uploaded_audio and uploaded_image and \"⏳ Analyzing files...\" not in chat_output:\n",
        "            chat_output.append(\"⏳ Analyzing files...\")\n",
        "            print(\"Starting analysis...\")\n",
        "\n",
        "            # Perform analysis\n",
        "            audio_duration = analyze_audio(uploaded_audio)\n",
        "            face_detected = analyze_image(uploaded_image)\n",
        "\n",
        "            if not face_detected:\n",
        "                chat_output.append(\"❌ No face detected in the image. Please upload a clear image.\")\n",
        "            else:\n",
        "                chat_output.append(f\"✅ Analysis complete! Audio duration: {audio_duration:.2f} seconds. Face detected in the image.\")\n",
        "                chat_output.append(\"🎭 Now, select animation settings.\")\n",
        "                display(animation_options)\n",
        "\n",
        "# Separate upload widgets for audio and image\n",
        "upload_audio = widgets.FileUpload(accept='.mp3,.wav', multiple=False, description='Upload Audio')\n",
        "upload_audio.observe(on_upload_audio, names='value')\n",
        "\n",
        "upload_image = widgets.FileUpload(accept='.png,.jpg,.jpeg', multiple=False, description='Upload Image')\n",
        "upload_image.observe(on_upload_image, names='value')\n",
        "\n",
        "# Animation options widget\n",
        "animation_options = widgets.Dropdown(\n",
        "    options=['Calm', 'Expressive', 'Neutral'],\n",
        "    description='Animation:',\n",
        "    style={'description_width': 'initial'}\n",
        ")\n",
        "\n",
        "def start_chatbot():\n",
        "    with chat_ui:\n",
        "        clear_output()\n",
        "        chat_output.append(\"👋 Welcome! Please upload an image and an audio file to get started.\")\n",
        "        display(upload_audio, upload_image)\n",
        "\n",
        "# Run chatbot\n",
        "start_chatbot()\n",
        "display(chat_ui)\n"
      ],
      "metadata": {
        "colab": {
          "base_uri": "https://localhost:8080/",
          "height": 202,
          "referenced_widgets": [
            "645904056c9f4f248594c33b62457c8b",
            "572a6fe8f1a74a29b2d1b5f7c5a89872",
            "e6a624dd53344cf8bf6473157ee16fbd",
            "66d3c4128e0a4eab8bcf350a3cc648e9",
            "2128022b922945cfb51fb8901cc2cdff",
            "3c0172179bfa44d1b438ff22ebcd8f07",
            "e7dcfd32829f488d990e4261e5908079",
            "26ba4cf1ccbe4e22b0c60d5d74ed025a"
          ]
        },
        "id": "jRjHgGpvnXWp",
        "outputId": "9f7e129d-4a69-4bd8-9eef-b651d201e31b"
      },
      "execution_count": 5,
      "outputs": [
        {
          "output_type": "stream",
          "name": "stdout",
          "text": [
            "dlib.DLIB_USE_CUDA: False\n"
          ]
        },
        {
          "output_type": "display_data",
          "data": {
            "text/plain": [
              "Output()"
            ],
            "application/vnd.jupyter.widget-view+json": {
              "version_major": 2,
              "version_minor": 0,
              "model_id": "645904056c9f4f248594c33b62457c8b"
            }
          },
          "metadata": {}
        },
        {
          "output_type": "stream",
          "name": "stdout",
          "text": [
            "Audio uploaded: True\n",
            "Image uploaded: True\n"
          ]
        }
      ]
    }
  ]
}