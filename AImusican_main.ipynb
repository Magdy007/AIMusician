{
  "nbformat": 4,
  "nbformat_minor": 0,
  "metadata": {
    "colab": {
      "provenance": [],
      "authorship_tag": "ABX9TyMcdY3VJBqzgE3GHHaCn7y/",
      "include_colab_link": true
    },
    "kernelspec": {
      "name": "python3",
      "display_name": "Python 3"
    },
    "language_info": {
      "name": "python"
    },
    "widgets": {
      "application/vnd.jupyter.widget-state+json": {
        "ae2bb0e697444b0e9ba4881d7280757c": {
          "model_module": "@jupyter-widgets/controls",
          "model_name": "ButtonModel",
          "model_module_version": "1.5.0",
          "state": {
            "_dom_classes": [],
            "_model_module": "@jupyter-widgets/controls",
            "_model_module_version": "1.5.0",
            "_model_name": "ButtonModel",
            "_view_count": null,
            "_view_module": "@jupyter-widgets/controls",
            "_view_module_version": "1.5.0",
            "_view_name": "ButtonView",
            "button_style": "",
            "description": "💾 حفظ يدوي",
            "disabled": false,
            "icon": "",
            "layout": "IPY_MODEL_518e4137af534f098da2a2b4a9894272",
            "style": "IPY_MODEL_94174bf320624ae79fe74e477d87b0fe",
            "tooltip": ""
          }
        },
        "518e4137af534f098da2a2b4a9894272": {
          "model_module": "@jupyter-widgets/base",
          "model_name": "LayoutModel",
          "model_module_version": "1.2.0",
          "state": {
            "_model_module": "@jupyter-widgets/base",
            "_model_module_version": "1.2.0",
            "_model_name": "LayoutModel",
            "_view_count": null,
            "_view_module": "@jupyter-widgets/base",
            "_view_module_version": "1.2.0",
            "_view_name": "LayoutView",
            "align_content": null,
            "align_items": null,
            "align_self": null,
            "border": null,
            "bottom": null,
            "display": null,
            "flex": null,
            "flex_flow": null,
            "grid_area": null,
            "grid_auto_columns": null,
            "grid_auto_flow": null,
            "grid_auto_rows": null,
            "grid_column": null,
            "grid_gap": null,
            "grid_row": null,
            "grid_template_areas": null,
            "grid_template_columns": null,
            "grid_template_rows": null,
            "height": null,
            "justify_content": null,
            "justify_items": null,
            "left": null,
            "margin": null,
            "max_height": null,
            "max_width": null,
            "min_height": null,
            "min_width": null,
            "object_fit": null,
            "object_position": null,
            "order": null,
            "overflow": null,
            "overflow_x": null,
            "overflow_y": null,
            "padding": null,
            "right": null,
            "top": null,
            "visibility": null,
            "width": null
          }
        },
        "94174bf320624ae79fe74e477d87b0fe": {
          "model_module": "@jupyter-widgets/controls",
          "model_name": "ButtonStyleModel",
          "model_module_version": "1.5.0",
          "state": {
            "_model_module": "@jupyter-widgets/controls",
            "_model_module_version": "1.5.0",
            "_model_name": "ButtonStyleModel",
            "_view_count": null,
            "_view_module": "@jupyter-widgets/base",
            "_view_module_version": "1.2.0",
            "_view_name": "StyleView",
            "button_color": null,
            "font_weight": ""
          }
        }
      }
    }
  },
  "cells": [
    {
      "cell_type": "markdown",
      "metadata": {
        "id": "view-in-github",
        "colab_type": "text"
      },
      "source": [
        "<a href=\"https://colab.research.google.com/github/Magdy007/AIMusician/blob/main/AImusican_main.ipynb\" target=\"_parent\"><img src=\"https://colab.research.google.com/assets/colab-badge.svg\" alt=\"Open In Colab\"/></a>"
      ]
    },
    {
      "cell_type": "markdown",
      "source": [
        "# حفظ يدوي"
      ],
      "metadata": {
        "id": "uwDBYHF_a6OX"
      }
    },
    {
      "cell_type": "code",
      "source": [
        "import time\n",
        "import threading\n",
        "from google.colab import drive\n",
        "from IPython.display import display, Javascript\n",
        "\n",
        "# التأكد من ربط Google Drive\n",
        "if not os.path.exists(\"/content/drive/MyDrive\"):\n",
        "    print(\"🔗 Google Drive غير مربوط! يرجى ربطه أولًا.\")\n",
        "    drive.mount('/content/drive')\n",
        "    print(\"✅ تم ربط Google Drive بنجاح!\")\n",
        "\n",
        "# تحديد مسار الحفظ التلقائي\n",
        "save_path = \"/content/drive/MyDrive/aimusician_backup.ipynb\"\n",
        "\n",
        "# دالة الحفظ\n",
        "def save_notebook():\n",
        "    try:\n",
        "        display(Javascript('IPython.notebook.save_checkpoint();'))\n",
        "        print(\"✅ تم الحفظ يدويًا!\")\n",
        "    except Exception as e:\n",
        "        print(\"⚠️ فشل الحفظ:\", str(e))\n",
        "\n",
        "# دالة الحفظ التلقائي كل 10 دقائق\n",
        "def auto_save():\n",
        "    while True:\n",
        "        time.sleep(600)  # ينتظر 10 دقائق\n",
        "        save_notebook()\n",
        "\n",
        "# تشغيل الحفظ التلقائي في الخلفية\n",
        "thread = threading.Thread(target=auto_save, daemon=True)\n",
        "thread.start()\n",
        "\n",
        "# زر الحفظ اليدوي\n",
        "import ipywidgets as widgets\n",
        "save_button = widgets.Button(description=\"💾 حفظ يدوي\")\n",
        "save_button.on_click(lambda b: save_notebook())\n",
        "display(save_button)\n"
      ],
      "metadata": {
        "id": "eNE9jZmb5FDQ",
        "outputId": "1c9eb9e6-62e2-4693-ebf0-8b70bca08d63",
        "colab": {
          "base_uri": "https://localhost:8080/",
          "height": 84,
          "referenced_widgets": [
            "ae2bb0e697444b0e9ba4881d7280757c",
            "518e4137af534f098da2a2b4a9894272",
            "94174bf320624ae79fe74e477d87b0fe"
          ]
        }
      },
      "execution_count": null,
      "outputs": [
        {
          "output_type": "display_data",
          "data": {
            "text/plain": [
              "Button(description='💾 حفظ يدوي', style=ButtonStyle())"
            ],
            "application/vnd.jupyter.widget-view+json": {
              "version_major": 2,
              "version_minor": 0,
              "model_id": "ae2bb0e697444b0e9ba4881d7280757c"
            }
          },
          "metadata": {}
        },
        {
          "output_type": "display_data",
          "data": {
            "text/plain": [
              "<IPython.core.display.Javascript object>"
            ],
            "application/javascript": [
              "IPython.notebook.save_checkpoint();"
            ]
          },
          "metadata": {}
        },
        {
          "output_type": "stream",
          "name": "stdout",
          "text": [
            "✅ تم الحفظ يدويًا!\n"
          ]
        },
        {
          "output_type": "display_data",
          "data": {
            "text/plain": [
              "<IPython.core.display.Javascript object>"
            ],
            "application/javascript": [
              "IPython.notebook.save_checkpoint();"
            ]
          },
          "metadata": {}
        },
        {
          "output_type": "stream",
          "name": "stdout",
          "text": [
            "✅ تم الحفظ يدويًا!\n"
          ]
        }
      ]
    },
    {
      "cell_type": "markdown",
      "source": [
        "# ربط جيت هب وحوجل درايف لضمان حفظ الجلسات"
      ],
      "metadata": {
        "id": "9uD2mb6BX63i"
      }
    },
    {
      "cell_type": "markdown",
      "source": [
        "ربط جيتهب"
      ],
      "metadata": {
        "id": "9vWGtw1qbrQe"
      }
    },
    {
      "cell_type": "code",
      "source": [
        "from google.colab import auth\n",
        "auth.authenticate_user()\n",
        "\n",
        "!git config --global user.email \"your-email@example.com\"\n",
        "!git config --global user.name \"YourGitHubUsername\"\n"
      ],
      "metadata": {
        "id": "5umVgOPQW0X8"
      },
      "execution_count": 2,
      "outputs": []
    },
    {
      "cell_type": "markdown",
      "source": [
        "التحقق من ربط جيت هب"
      ],
      "metadata": {
        "id": "sidQDerbX_D6"
      }
    },
    {
      "cell_type": "code",
      "source": [
        "!git config --global user.email\n",
        "!git config --global user.name\n"
      ],
      "metadata": {
        "colab": {
          "base_uri": "https://localhost:8080/"
        },
        "id": "fhWCwGxdW0RD",
        "outputId": "36bc9f93-0dc8-42ef-8350-0def5d4ffb98"
      },
      "execution_count": 3,
      "outputs": [
        {
          "output_type": "stream",
          "name": "stdout",
          "text": [
            "your-email@example.com\n",
            "YourGitHubUsername\n"
          ]
        }
      ]
    },
    {
      "cell_type": "markdown",
      "source": [
        "استرجاع المشروع من جيت هب"
      ],
      "metadata": {
        "id": "mcJizdZNYQyq"
      }
    },
    {
      "cell_type": "code",
      "source": [
        "!git clone https://github.com/Magdy007/AIMusician.git\n",
        "%cd AIMusician\n"
      ],
      "metadata": {
        "colab": {
          "base_uri": "https://localhost:8080/"
        },
        "id": "gNrXjtL0W0KD",
        "outputId": "bb0eea3c-4beb-403b-83bb-de8406b175f8"
      },
      "execution_count": 1,
      "outputs": [
        {
          "output_type": "stream",
          "name": "stdout",
          "text": [
            "Cloning into 'AIMusician'...\n",
            "remote: Enumerating objects: 13, done.\u001b[K\n",
            "remote: Counting objects: 100% (13/13), done.\u001b[K\n",
            "remote: Compressing objects: 100% (13/13), done.\u001b[K\n",
            "remote: Total 13 (delta 3), reused 0 (delta 0), pack-reused 0 (from 0)\u001b[K\n",
            "Receiving objects: 100% (13/13), 318.52 KiB | 4.75 MiB/s, done.\n",
            "Resolving deltas: 100% (3/3), done.\n",
            "/content/AIMusician\n"
          ]
        }
      ]
    },
    {
      "cell_type": "markdown",
      "source": [
        "📌 إضافة كل الملفات المعدلة والجديدة إلى قائمة الرفع:\n",
        "اذا كنت تملك ... على جيتهب"
      ],
      "metadata": {
        "id": "jyNI5a93ZXNh"
      }
    },
    {
      "cell_type": "code",
      "source": [
        "!git add .\n"
      ],
      "metadata": {
        "id": "F5HyyPrjWz98"
      },
      "execution_count": null,
      "outputs": []
    },
    {
      "cell_type": "markdown",
      "source": [
        "معرفة حالة الملفات التي تم رفعها من جيت هب"
      ],
      "metadata": {
        "id": "kVNt0ghUYkdh"
      }
    },
    {
      "cell_type": "code",
      "source": [
        "!git status\n"
      ],
      "metadata": {
        "colab": {
          "base_uri": "https://localhost:8080/"
        },
        "collapsed": true,
        "id": "jPytP_r6Wz5L",
        "outputId": "a0c3e6d0-8568-40d6-9737-60d05b495576"
      },
      "execution_count": null,
      "outputs": [
        {
          "output_type": "stream",
          "name": "stdout",
          "text": [
            "On branch main\n",
            "Your branch is ahead of 'origin/main' by 1 commit.\n",
            "  (use \"git push\" to publish your local commits)\n",
            "\n",
            "nothing to commit, working tree clean\n"
          ]
        }
      ]
    },
    {
      "cell_type": "markdown",
      "source": [
        "📌 حفظ التعديلات داخل Git بتعليق يصف التغيير:"
      ],
      "metadata": {
        "id": "smuSgZ4QaNJQ"
      }
    },
    {
      "cell_type": "code",
      "source": [
        "!git commit -m \"AIMusician\"\n"
      ],
      "metadata": {
        "colab": {
          "base_uri": "https://localhost:8080/"
        },
        "id": "SBIQlaXQaGKQ",
        "outputId": "0dd4f9f7-ca55-47b0-9c1f-74fba24b8a73",
        "collapsed": true
      },
      "execution_count": null,
      "outputs": [
        {
          "output_type": "stream",
          "name": "stdout",
          "text": [
            "On branch main\n",
            "Your branch is ahead of 'origin/main' by 1 commit.\n",
            "  (use \"git push\" to publish your local commits)\n",
            "\n",
            "nothing to commit, working tree clean\n"
          ]
        }
      ]
    },
    {
      "cell_type": "markdown",
      "source": [
        "ربط جوجل درايف المستخدم أو التأكد من الربط لضمان حفظ العمل الموسيقي"
      ],
      "metadata": {
        "id": "f3QED7-d6yiK"
      }
    },
    {
      "cell_type": "code",
      "source": [
        "import os\n",
        "import time\n",
        "import threading\n",
        "from google.colab import drive\n",
        "\n",
        "# التحقق مما إذا كان Google Drive مربوطًا بالفعل\n",
        "if os.path.exists(\"/content/drive/MyDrive\"):\n",
        "    print(\"✅ Google Drive مربوط بالفعل!\")\n",
        "else:\n",
        "    print(\"🔗 Google Drive غير مربوط! يرجى الضغط على الرابط التالي لربطه:\")\n",
        "    drive.mount('/content/drive')\n",
        "    print(\"✅ تم ربط Google Drive بنجاح!\")\n",
        "\n",
        "# دالة لحفظ النوتبوك تلقائيًا\n",
        "def auto_save():\n",
        "    while True:\n",
        "        time.sleep(600)  # 600 ثانية = 10 دقائق\n",
        "        os.system(\"cp /content/*.ipynb /content/drive/MyDrive/\")  # حفظ كل النوتبوك إلى Google Drive\n",
        "        print(\"✅ تم حفظ نسخة احتياطية تلقائيًا في Google Drive!\")\n",
        "\n",
        "# تشغيل الحفظ التلقائي في Thread منفصل\n",
        "thread = threading.Thread(target=auto_save, daemon=True)\n",
        "thread.start()\n"
      ],
      "metadata": {
        "id": "zwxhDUrj3aZb",
        "outputId": "2b86ec36-0390-4a0e-a158-5c81f90e3912",
        "colab": {
          "base_uri": "https://localhost:8080/"
        }
      },
      "execution_count": 1,
      "outputs": [
        {
          "output_type": "stream",
          "name": "stdout",
          "text": [
            "🔗 Google Drive غير مربوط! يرجى الضغط على الرابط التالي لربطه:\n",
            "Mounted at /content/drive\n",
            "✅ تم ربط Google Drive بنجاح!\n"
          ]
        }
      ]
    }
  ]
}